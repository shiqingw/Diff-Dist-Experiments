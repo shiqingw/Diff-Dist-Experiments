{
 "cells": [
  {
   "cell_type": "markdown",
   "metadata": {},
   "source": [
    "## 1. Set up communication with the FR3"
   ]
  },
  {
   "cell_type": "markdown",
   "metadata": {},
   "source": [
    "### 1.1 Set up communication with the arm"
   ]
  },
  {
   "cell_type": "code",
   "execution_count": 1,
   "metadata": {},
   "outputs": [
    {
     "name": "stdout",
     "output_type": "stream",
     "text": [
      "Interface Running...\n"
     ]
    }
   ],
   "source": [
    "%load_ext autoreload\n",
    "%autoreload 2\n",
    "import sys \n",
    "from FR3Py.robot.interface import FR3Real\n",
    "robot = FR3Real(robot_id='fr3')"
   ]
  },
  {
   "cell_type": "code",
   "execution_count": 2,
   "metadata": {},
   "outputs": [
    {
     "data": {
      "text/plain": [
       "{'q': array([-1.44029718e-04, -7.84823550e-01,  5.88856027e-04, -2.35727474e+00,\n",
       "        -6.09830826e-04,  1.57021801e+00,  7.85749072e-01]),\n",
       " 'dq': array([ 0.00117338, -0.00033595, -0.00056636,  0.0011624 ,  0.00078897,\n",
       "        -0.00016297, -0.0005762 ]),\n",
       " 'T': array([ 0.16592097, -4.44879293, -1.08107603, 23.55594254,  1.2251457 ,\n",
       "         2.45999885, -0.12952206]),\n",
       " 'M': array([[ 4.83732148e-01, -1.01819635e-02,  4.81013239e-01,\n",
       "         -1.21737990e-02,  5.55299684e-02, -3.84736481e-03,\n",
       "          1.56873992e-03],\n",
       "        [-1.01819635e-02,  1.53645701e+00,  5.01971690e-03,\n",
       "         -6.90042026e-01, -1.43325312e-02, -2.37136336e-02,\n",
       "         -6.80197240e-04],\n",
       "        [ 4.81013239e-01,  5.01971690e-03,  9.84069761e-01,\n",
       "         -2.77211083e-02,  6.82327143e-02, -4.62758184e-03,\n",
       "          3.48794640e-03],\n",
       "        [-1.21737990e-02, -6.90042026e-01, -2.77211083e-02,\n",
       "          9.50905394e-01,  2.77402151e-02,  1.06002777e-01,\n",
       "          3.15508258e-04],\n",
       "        [ 5.55299684e-02, -1.43325312e-02,  6.82327143e-02,\n",
       "          2.77402151e-02,  1.99562034e-02,  2.74175179e-03,\n",
       "          7.42074634e-04],\n",
       "        [-3.84736481e-03, -2.37136336e-02, -4.62758184e-03,\n",
       "          1.06002777e-01,  2.74175179e-03,  3.48685902e-02,\n",
       "          2.11043576e-04],\n",
       "        [ 1.56873992e-03, -6.80197240e-04,  3.48794640e-03,\n",
       "          3.15508258e-04,  7.42074634e-04,  2.11043576e-04,\n",
       "          1.89682822e-03]]),\n",
       " 'G': array([ 1.51788304e-18, -3.79713695e+00, -6.48347968e-01,  2.24797563e+01,\n",
       "         7.93430961e-01,  2.15643018e+00, -8.53451082e-05]),\n",
       " 'C': array([-6.54378896e-07, -8.22120406e-07, -1.78345393e-06, -3.25596476e-07,\n",
       "        -1.20920928e-07, -2.12388752e-07, -9.05082219e-09])}"
      ]
     },
     "execution_count": 2,
     "metadata": {},
     "output_type": "execute_result"
    }
   ],
   "source": [
    "# Print the arm state\n",
    "robot.getJointStates()"
   ]
  },
  {
   "cell_type": "markdown",
   "metadata": {},
   "source": [
    "# 2. Go to initial joint angle"
   ]
  },
  {
   "cell_type": "code",
   "execution_count": 3,
   "metadata": {},
   "outputs": [],
   "source": [
    "import numpy as np\n",
    "import time"
   ]
  },
  {
   "cell_type": "code",
   "execution_count": 4,
   "metadata": {},
   "outputs": [],
   "source": [
    "## Some global parameters\n",
    "joint_lb = np.array([-2.3093, -1.5133, -2.4937, -2.7478, -2.48, 0.8521, -2.6895])\n",
    "joint_ub = np.array([2.3093, 1.5133, 2.4937, -0.4461, 2.48, 4.2094, 2.6895])\n",
    "joint_vel_lb = -np.array([2.175, 2.175, 2.175, 2.175, 2.61, 2.61, 2.61])\n",
    "joint_vel_ub = np.array([2.175, 2.175, 2.175, 2.175, 2.61, 2.61, 2.61])"
   ]
  },
  {
   "cell_type": "code",
   "execution_count": 5,
   "metadata": {},
   "outputs": [],
   "source": [
    "T = 7\n",
    "q_init = np.array([ 0.8004, -0.9493, -1.0221, -2.1716, -0.309, 3.1311, 0.27])\n",
    "\n",
    "Kp_joint = np.diag([1, 1, 1, 1, 4, 2, 1])*5\n",
    "t_start = time.time()\n",
    "while time.time() - t_start < T:\n",
    "    robot_info = robot.getJointStates()\n",
    "    q = robot_info['q'] # shape (7,)\n",
    "    \n",
    "    W = np.diag(1.0/(joint_ub-joint_lb))\n",
    "    eq = W @ (q - q_init)\n",
    "    dq = - Kp_joint @ eq\n",
    "    dq = np.clip(dq, joint_vel_lb, joint_vel_ub)\n",
    "    robot.setCommands(dq)\n",
    "\n",
    "robot.setCommands(np.zeros_like(dq))"
   ]
  },
  {
   "cell_type": "markdown",
   "metadata": {},
   "source": [
    "# 3. uaibot"
   ]
  },
  {
   "cell_type": "code",
   "execution_count": 6,
   "metadata": {},
   "outputs": [],
   "source": [
    "import uaibot as ub\n",
    "\n",
    "def create_pyramid(htm, radius, height):\n",
    "    \"\"\"\n",
    "    Create a 4-sided pyramid using Uaibot's ConvexPolytope.\n",
    "    The square base lies in the plane z=0, centered at (0,0,0),\n",
    "    with side length 2*radius, and the apex is at (0,0,height).\n",
    "\n",
    "    :param htm:    4x4 homogeneous transform giving the final pose\n",
    "    :param radius: half of the base's side length\n",
    "    :param height: height of the pyramid (apex at z = height)\n",
    "    :return:       a uaibot ConvexPolytope object\n",
    "    \"\"\"\n",
    "\n",
    "    # Define the apex in local coordinates.\n",
    "    apex = np.array([0, 0, height])\n",
    "\n",
    "    # We'll collect A and b for the half-spaces A*x <= b.\n",
    "    A_list = []\n",
    "    b_list = []\n",
    "\n",
    "    # Number of sides in the base (4 -> a square).\n",
    "    no_sides = 4\n",
    "\n",
    "    # Loop over each side of the square base\n",
    "    for i in range(no_sides):\n",
    "        # Corner i of the base\n",
    "        theta1 = 2 * np.pi * i / no_sides\n",
    "        # Corner i+1 (the \"next\" corner)\n",
    "        theta2 = 2 * np.pi * (i + 1) / no_sides\n",
    "\n",
    "        # Points in R^3 (local frame)\n",
    "        p1 = apex  # apex\n",
    "        p2 = np.array([radius * np.cos(theta1), radius * np.sin(theta1), 0])\n",
    "        p3 = np.array([radius * np.cos(theta2), radius * np.sin(theta2), 0])\n",
    "\n",
    "        # Normal vector to the plane (p1, p2, p3)\n",
    "        normal = np.cross(p2 - p1, p3 - p1)\n",
    "\n",
    "        # We want the \"inside\" of the plane to include the center of the base (0,0,0).\n",
    "        # So we check the sign of normal dot (center - apex).\n",
    "        center = np.array([0, 0, 0])\n",
    "        if np.dot(normal, center - p1) > 0:\n",
    "            normal = -normal\n",
    "\n",
    "        # The plane is normal^T x <= normal^T p1\n",
    "        A_list.append(normal)\n",
    "        b_list.append(np.dot(normal, p1))\n",
    "\n",
    "    # Finally, add the plane for z >= 0, i.e. -z <= 0\n",
    "    A_list.append([0, 0, -1])\n",
    "    b_list.append(0)\n",
    "\n",
    "    # Convert everything to numpy arrays\n",
    "    A = np.array(A_list, dtype=float)\n",
    "    b = np.array(b_list, dtype=float).reshape(-1, 1)\n",
    "\n",
    "    # Build the convex polytope at the local frame\n",
    "    pyramid = ub.ConvexPolytope(A=A, b=b, htm=ub.Utils.trn([0, 0, 0])*ub.Utils.rotz(np.pi/4), color=\"yellow\")\n",
    "\n",
    "    # Now apply the desired pose 'htm'\n",
    "    pyramid.add_ani_frame(time=0, htm=htm)\n",
    "\n",
    "    return pyramid\n",
    "   \n",
    " \n",
    "def funF(r):\n",
    "#Function that is used in the control loop\n",
    "\n",
    "    f = np.matrix(r)\n",
    "    for j in range(np.shape(r)[0]):\n",
    "        f[j,0] = np.sign(r[j,0])*np.sqrt(np.abs(r[j,0]))\n",
    "        \n",
    "    return f"
   ]
  },
  {
   "cell_type": "code",
   "execution_count": 7,
   "metadata": {},
   "outputs": [],
   "source": [
    "##############################################################################\n",
    "#Create list of obstacles\n",
    "pyramid = create_pyramid(ub.Utils.trn([0.42,0,0.44])*ub.Utils.rotz(-np.pi/4),radius=0.26/np.sqrt(2),height=0.45)\n",
    "table_top = ub.Box(ub.Utils.trn([0.4,0,0.22]),width=0.32,depth=0.48,height=0.44, color='magenta')\n",
    "obstacles = [pyramid, table_top]\n",
    "\n",
    "##############################################################################\n",
    "#Create the robot\n",
    "uai_robot = ub.Robot.create_franka_emika_3()\n",
    "no_joint = np.shape(uai_robot.q)[0]\n",
    "\n",
    "##############################################################################\n",
    "#Create the initial pose and target pose\n",
    "htm_init = ub.Utils.trn([0.45, -0.3, 0.7])*ub.Utils.roty(-np.pi/2)*ub.Utils.rotx(np.pi)\n",
    "htm_des = ub.Utils.trn([0.45, 0.16, 0.7])*ub.Utils.roty(np.pi/2)*ub.Utils.rotx(np.pi/6)*ub.Utils.rotz(np.pi/2)"
   ]
  },
  {
   "cell_type": "code",
   "execution_count": 8,
   "metadata": {},
   "outputs": [],
   "source": [
    "#Main control loop\n",
    "#Parameters\n",
    "dt = 0.01\n",
    "#CBF eta\n",
    "eta = 0.8\n",
    "#Convergence gain\n",
    "kconv = 0.5\n",
    "#Smoothing parameter eps for obstacle avoidance\n",
    "eps_to_obs = 0.003\n",
    "#Smoothing parameter h for obstacle avoidance\n",
    "h_to_obs = 0.003\n",
    "#Smoothing parameter eps for auto collision avoidance\n",
    "eps_auto = 0.02\n",
    "#Smoothing parameter h for auto collision avoidance\n",
    "h_auto = 0.05\n",
    "#Safety margin obstacle avoidance\n",
    "d_safe_obs = 0.016\n",
    "#Safety margin auto collision avoidance\n",
    "d_safe_auto = 0.002\n",
    "#Safety margin joint\n",
    "d_safe_jl = (np.pi/180)*1\n",
    "#Error tolerance position (in mm)\n",
    "tolp=1.0 \n",
    "#Error tolerance angle (in def)\n",
    "tolo=1.0 \n",
    "#Regularization term for the controller\n",
    "eps_reg = 0.01"
   ]
  },
  {
   "cell_type": "code",
   "execution_count": 9,
   "metadata": {},
   "outputs": [],
   "source": [
    "timestamps_list = [] \n",
    "joint_angles_list = []\n",
    "time_per_loop_list = []\n",
    "\n",
    "T = 13\n",
    "start_time = time.time()\n",
    "while (time.time() - start_time < T):\n",
    "    loop_start = time.time()\n",
    "    robot_info = robot.getJointStates()\n",
    "    #Get current configuration, in the real robot you have to measure this from somewhere\n",
    "    q = robot_info[\"q\"].reshape(-1,1)\n",
    "\n",
    "    #Compute task function and Jacobian at current configuration\n",
    "    r, jac_r = uai_robot.task_function(q=q, htm_des = htm_des)\n",
    "    \n",
    "    #GATHER DATA FOR THE OBSTACLE AVOIDANCE CONSTRAINT\n",
    "    #Loop all the obstacles and compute distance info\n",
    "    #Collect the matrices A_obs and b_obs:\n",
    "    # A_obs: each line has the smooth metric gradient (in configuration space), as a row matrix,\n",
    "    #        from an object of the robot and an object of the obstacle\n",
    "    # b_obs: each line has the smooth metric\n",
    "    A_obs = np.matrix(np.zeros((0,no_joint)))\n",
    "    b_obs = np.matrix(np.zeros((0,1)))\n",
    "    \n",
    "    for obs in obstacles:\n",
    "        dist_info = uai_robot.compute_dist(obj = obs, q=q, h=h_to_obs, eps = eps_to_obs)\n",
    "\n",
    "        A_obs = np.vstack((A_obs, dist_info.jac_dist_mat))\n",
    "        b_obs = np.vstack((b_obs, dist_info.dist_vect))\n",
    "        \n",
    "    #GATHER DATA FOR THE JOINT LIMIT AVOIDANCE COINSTRANT\n",
    "    q_min = uai_robot.joint_limit[:,0]\n",
    "    q_max = uai_robot.joint_limit[:,1]\n",
    "    A_joint = np.matrix(np.vstack(  (np.identity(7), -np.identity(7))  ))\n",
    "    b_joint = np.matrix(np.vstack(  (q-q_min , q_max - q)  ))\n",
    "    \n",
    "    #GATHER DATA FOR THE AUTO COLLISION AVOIDANCE CONSTRAINT\n",
    "    dist_info =uai_robot.compute_dist_auto(q = q, eps=eps_auto, h=h_auto)\n",
    "    #We can safely ignore the last four collisions, that is why we have the [0:-4,:]   \n",
    "    A_auto = dist_info.jac_dist_mat[0:-4,:]\n",
    "    b_auto = dist_info.dist_vect[0:-4,:]    \n",
    "    \n",
    "    #CREATE THE QUADRATIC PROGRAM    \n",
    "    H_mat = jac_r.transpose()*jac_r + eps_reg*np.identity(no_joint)\n",
    "    f_mat = kconv * jac_r.transpose()*funF(r)\n",
    "    \n",
    "    A_mat = np.vstack((A_obs,A_joint,A_auto))\n",
    "    b_mat = np.vstack( (b_obs-d_safe_obs, b_joint-d_safe_jl, b_auto-d_safe_auto) )\n",
    "    \n",
    "    b_mat = -eta*b_mat\n",
    "        \n",
    "    #Compute qdot\n",
    "    dq = ub.Utils.solve_qp(H_mat, f_mat, A_mat, b_mat)\n",
    "    dq = np.array(dq)\n",
    "    dq = dq.squeeze(-1)\n",
    "    dq = np.clip(dq, joint_vel_lb, joint_vel_ub)\n",
    "    robot.setCommands(dq)\n",
    "    loop_end = time.time()\n",
    "\n",
    "    timestamps_list.append(loop_start)\n",
    "    joint_angles_list.append(robot_info[\"q\"].copy())\n",
    "    time_per_loop_list.append(loop_end-loop_start)\n",
    "\n",
    "robot.setCommands(np.zeros_like(dq))\n",
    "    "
   ]
  },
  {
   "cell_type": "markdown",
   "metadata": {},
   "source": [
    "# 4. Save the data"
   ]
  },
  {
   "cell_type": "code",
   "execution_count": 10,
   "metadata": {},
   "outputs": [],
   "source": [
    "import pickle\n",
    "from datetime import datetime\n",
    "import os\n",
    "\n",
    "now = datetime.now()\n",
    "formatted_date_time = now.strftime(\"%Y-%m-%d-%H-%M-%S\")\n",
    "\n",
    "directory = f\"exp3_results/{formatted_date_time}\"\n",
    "\n",
    "# Create the directory if it doesn't exist\n",
    "if not os.path.exists(directory):\n",
    "    os.makedirs(directory)\n",
    "\n",
    "# Define the file path\n",
    "file_path = os.path.join(directory, \"data.pickle\")\n",
    "\n",
    "# Data to be saved\n",
    "data = {\n",
    "    \"q\": joint_angles_list,\n",
    "    \"timestamp\": timestamps_list,\n",
    "    \"time_per_loop\": time_per_loop_list\n",
    "}\n",
    "\n",
    "# Save the data using pickle\n",
    "with open(file_path, \"wb\") as f:\n",
    "    pickle.dump(data, f)"
   ]
  },
  {
   "cell_type": "markdown",
   "metadata": {},
   "source": [
    "# 5. Visualization"
   ]
  },
  {
   "cell_type": "code",
   "execution_count": 11,
   "metadata": {},
   "outputs": [],
   "source": [
    "import matplotlib.pyplot as plt"
   ]
  },
  {
   "cell_type": "code",
   "execution_count": 12,
   "metadata": {},
   "outputs": [
    {
     "data": {
      "image/png": "[encoded data removed]",
      "text/plain": [
       "<Figure size 640x480 with 1 Axes>"
      ]
     },
     "metadata": {},
     "output_type": "display_data"
    }
   ],
   "source": [
    "time_per_loop_np = np.array(time_per_loop_list)\n",
    "plt.hist(time_per_loop_np, bins=100)\n",
    "plt.show()"
   ]
  }
 ],
 "metadata": {
  "kernelspec": {
   "display_name": "usr",
   "language": "python",
   "name": "python3"
  },
  "language_info": {
   "codemirror_mode": {
    "name": "ipython",
    "version": 3
   },
   "file_extension": ".py",
   "mimetype": "text/x-python",
   "name": "python",
   "nbconvert_exporter": "python",
   "pygments_lexer": "ipython3",
   "version": "3.11.0rc1"
  }
 },
 "nbformat": 4,
 "nbformat_minor": 2
}
