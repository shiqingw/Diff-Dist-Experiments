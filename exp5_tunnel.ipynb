{
 "cells": [
  {
   "cell_type": "markdown",
   "metadata": {},
   "source": [
    "## 1. Set up communication with the FR3"
   ]
  },
  {
   "cell_type": "markdown",
   "metadata": {},
   "source": [
    "### 1.1 Set up communication with the arm"
   ]
  },
  {
   "cell_type": "code",
   "execution_count": 1,
   "metadata": {},
   "outputs": [
    {
     "name": "stdout",
     "output_type": "stream",
     "text": [
      "Interface Running...\n"
     ]
    }
   ],
   "source": [
    "%load_ext autoreload\n",
    "%autoreload 2\n",
    "import sys \n",
    "from FR3Py.robot.interface import FR3Real\n",
    "robot = FR3Real(robot_id='fr3')"
   ]
  },
  {
   "cell_type": "code",
   "execution_count": 2,
   "metadata": {},
   "outputs": [
    {
     "data": {
      "text/plain": [
       "{'q': array([ 3.28444994e-04, -7.85749027e-01, -1.70123662e-04, -2.35641295e+00,\n",
       "        -7.01214304e-04,  1.57099311e+00,  7.84952844e-01]),\n",
       " 'dq': array([ 2.95557798e-04,  5.26100404e-04, -7.52277401e-04,  1.47901472e-03,\n",
       "        -1.54088850e-03, -9.59003136e-05,  8.25924372e-04]),\n",
       " 'T': array([-0.21097112, -3.84179831, -0.59706724, 22.94101334,  1.16014326,\n",
       "         2.13498664,  0.18633488]),\n",
       " 'M': array([[ 4.83362175e-01, -9.52153094e-03,  4.80469628e-01,\n",
       "         -1.24942281e-02,  5.54493868e-02, -3.84493482e-03,\n",
       "          1.56537641e-03],\n",
       "        [-9.52153094e-03,  1.53787873e+00,  5.24213776e-03,\n",
       "         -6.90818408e-01, -1.43550279e-02, -2.38349209e-02,\n",
       "         -6.81733598e-04],\n",
       "        [ 4.80469628e-01,  5.24213776e-03,  9.85185426e-01,\n",
       "         -2.77046186e-02,  6.82295770e-02, -4.61720922e-03,\n",
       "          3.48924037e-03],\n",
       "        [-1.24942281e-02, -6.90818408e-01, -2.77046186e-02,\n",
       "          9.51032696e-01,  2.77312769e-02,  1.06067345e-01,\n",
       "          3.14960224e-04],\n",
       "        [ 5.54493868e-02, -1.43550279e-02,  6.82295770e-02,\n",
       "          2.77312769e-02,  1.99379056e-02,  2.74381819e-03,\n",
       "          7.42943166e-04],\n",
       "        [-3.84493482e-03, -2.38349209e-02, -4.61720922e-03,\n",
       "          1.06067345e-01,  2.74381819e-03,  3.48698976e-02,\n",
       "          2.10452232e-04],\n",
       "        [ 1.56537641e-03, -6.81733598e-04,  3.48924037e-03,\n",
       "          3.14960224e-04,  7.42943166e-04,  2.10452232e-04,\n",
       "          1.89682822e-03]]),\n",
       " 'G': array([-5.42101086e-19, -3.76442443e+00, -6.34619002e-01,  2.24736669e+01,\n",
       "         7.94076331e-01,  2.16053415e+00, -6.84805373e-05]),\n",
       " 'C': array([-7.69664223e-07, -2.13208468e-07, -1.08747257e-06, -5.35364770e-07,\n",
       "        -1.41447227e-07, -1.14341525e-07, -2.06609240e-09])}"
      ]
     },
     "execution_count": 2,
     "metadata": {},
     "output_type": "execute_result"
    }
   ],
   "source": [
    "# Print the arm state\n",
    "robot.getJointStates()"
   ]
  },
  {
   "cell_type": "markdown",
   "metadata": {},
   "source": [
    "# 2. Go to initial joint angle"
   ]
  },
  {
   "cell_type": "code",
   "execution_count": 12,
   "metadata": {},
   "outputs": [],
   "source": [
    "import numpy as np\n",
    "import time"
   ]
  },
  {
   "cell_type": "code",
   "execution_count": 13,
   "metadata": {},
   "outputs": [],
   "source": [
    "## Some global parameters\n",
    "joint_lb = np.array([-2.3093, -1.5133, -2.4937, -2.7478, -2.48, 0.8521, -2.6895])\n",
    "joint_ub = np.array([2.3093, 1.5133, 2.4937, -0.4461, 2.48, 4.2094, 2.6895])\n",
    "joint_vel_lb = -np.array([2.175, 2.175, 2.175, 2.175, 2.61, 2.61, 2.61])\n",
    "joint_vel_ub = np.array([2.175, 2.175, 2.175, 2.175, 2.61, 2.61, 2.61])"
   ]
  },
  {
   "cell_type": "code",
   "execution_count": 14,
   "metadata": {},
   "outputs": [],
   "source": [
    "T = 7\n",
    "q_init = np.array([ 1.0582, -1.3811,  0.3629, -1.9647, -0.959,   1.4881, -0.1534])\n",
    "\n",
    "Kp_joint = np.diag([1, 1, 1, 1, 4, 2, 1])*5\n",
    "t_start = time.time()\n",
    "while time.time() - t_start < T:\n",
    "    robot_info = robot.getJointStates()\n",
    "    q = robot_info['q'] # shape (7,)\n",
    "    \n",
    "    W = np.diag(1.0/(joint_ub-joint_lb))\n",
    "    eq = W @ (q - q_init)\n",
    "    dq = - Kp_joint @ eq\n",
    "    dq = np.clip(dq, joint_vel_lb, joint_vel_ub)\n",
    "    robot.setCommands(dq)\n",
    "\n",
    "robot.setCommands(np.zeros_like(dq))"
   ]
  },
  {
   "cell_type": "markdown",
   "metadata": {},
   "source": [
    "# 3. uaibot"
   ]
  },
  {
   "cell_type": "code",
   "execution_count": 15,
   "metadata": {},
   "outputs": [],
   "source": [
    "import uaibot as ub\n",
    "from create_franka_emika_3_mod import *\n",
    "\n",
    "##############################################################################\n",
    "#Create list of obstacles\n",
    "obstacles = []\n",
    "obstacles.append(ub.Box(htm = ub.Utils.trn([0.52, 0.19, 0.48]), width=0.32,depth=0.08,height=0.92,color='magenta'))\n",
    "obstacles.append(ub.Box(htm = ub.Utils.trn([0.52,-0.19, 0.48]), width=0.32,depth=0.08,height=0.92,color='magenta'))\n",
    "obstacles.append(ub.Box(htm = ub.Utils.trn([0.52, 0.00, 0.96]), width=0.32,depth=0.46,height=0.08,color='magenta'))\n",
    "\n",
    "##############################################################################\n",
    "#Create the robot\n",
    "uai_robot = create_franka_emika_3_mod()\n",
    "no_joint = np.shape(uai_robot.q)[0]\n",
    "\n",
    "##############################################################################\n",
    "#Create the target pose\n",
    "htm_tg = ub.Utils.trn([0.64,0,0.75])*ub.Utils.roty(np.pi/2)*ub.Utils.rotz(np.pi/2)"
   ]
  },
  {
   "cell_type": "code",
   "execution_count": 18,
   "metadata": {},
   "outputs": [],
   "source": [
    "#Parameters\n",
    "#Control parameters\n",
    "K = 2*np.diag([0.2,0.2,0.2,0.2,0.2,0.2])\n",
    "eta = 0.2*0+0.5\n",
    "\n",
    "#mode = 0 (Euclidean)\n",
    "#mode = 1 (Smoothed)\n",
    "mode = 0\n",
    "\n",
    "if mode == 0:\n",
    "    h=1e-6\n",
    "    eps=0\n",
    "    delta=0.03\n",
    "else:\n",
    "    h=0.1\n",
    "    eps=0.01\n",
    "    delta=0.002"
   ]
  },
  {
   "cell_type": "code",
   "execution_count": 19,
   "metadata": {},
   "outputs": [],
   "source": [
    "# Main control loop\n",
    "timestamps_list = [] \n",
    "joint_angles_list = []\n",
    "control_list = []\n",
    "time_per_loop_list = []\n",
    "\n",
    "T = 20\n",
    "start_time = time.time()\n",
    "while (time.time() - start_time < T):\n",
    "    loop_start = time.time()\n",
    "    robot_info = robot.getJointStates()\n",
    "    #Get current configuration, in the real robot you have to measure this from somewhere\n",
    "    q = robot_info[\"q\"].reshape(-1,1)\n",
    "\n",
    "    #Compute task function and Jacobian at current configuration\n",
    "    r, jac_r = uai_robot.task_function(q=q, htm_tg=htm_tg)\n",
    "    \n",
    "    #GATHER DATA FOR THE OBSTACLE AVOIDANCE CONSTRAINT\n",
    "    #Loop all the obstacles and compute distance info\n",
    "    mat_A = np.matrix(np.zeros((0,7)))\n",
    "    mat_b = np.matrix(np.zeros((0,1)))\n",
    "    \n",
    "    true_dist = 1000\n",
    "    for obs in obstacles:\n",
    "        dr = uai_robot.compute_dist(q=q, obj=obs, h=h, eps=eps)\n",
    "        mat_A = np.vstack((mat_A, dr.jac_dist_mat))\n",
    "        mat_b = np.vstack((mat_b, -eta*(dr.dist_vect-delta)))\n",
    "        \n",
    "        true_dist = min(true_dist, uai_robot.compute_dist(q=q,obj=obs).get_closest_item().distance)\n",
    "        \n",
    "    #GATHER DATA FOR THE JOINT LIMIT AVOIDANCE COINSTRANT\n",
    "    mat_A = np.vstack((mat_A, np.identity(7)))\n",
    "    mat_b = np.vstack((mat_b, -eta*(q-uai_robot.joint_limit[:,0])))\n",
    "    \n",
    "    mat_A = np.vstack((mat_A,-np.identity(7)))\n",
    "    mat_b = np.vstack((mat_b,-eta*(uai_robot.joint_limit[:,1]-q)))\n",
    "    \n",
    "    #CREATE THE QUADRATIC PROGRAM    \n",
    "    r, jac_r = uai_robot.task_function(q=q, htm_tg=htm_tg)\n",
    "    mat_H = jac_r.T*jac_r + 0.01*np.identity(7)\n",
    "    mat_f = jac_r.T*(K*r)\n",
    "        \n",
    "    #Compute qdot\n",
    "    dq = ub.Utils.solve_qp(mat_H, mat_f, mat_A, mat_b)\n",
    "    dq = np.array(dq)\n",
    "    dq = dq.squeeze(-1)\n",
    "    dq = np.clip(dq, joint_vel_lb, joint_vel_ub)\n",
    "    # dq = np.zeros_like(dq)\n",
    "    robot.setCommands(dq)\n",
    "    loop_end = time.time()\n",
    "\n",
    "    timestamps_list.append(loop_start)\n",
    "    joint_angles_list.append(robot_info[\"q\"].copy())\n",
    "    control_list.append(dq.copy())\n",
    "    time_per_loop_list.append(loop_end-loop_start)\n",
    "\n",
    "robot.setCommands(np.zeros_like(dq))\n",
    "    "
   ]
  },
  {
   "cell_type": "markdown",
   "metadata": {},
   "source": [
    "# 4. Save the data"
   ]
  },
  {
   "cell_type": "code",
   "execution_count": 20,
   "metadata": {},
   "outputs": [],
   "source": [
    "import pickle\n",
    "from datetime import datetime\n",
    "import os\n",
    "\n",
    "now = datetime.now()\n",
    "formatted_date_time = now.strftime(\"%Y-%m-%d-%H-%M-%S\")\n",
    "\n",
    "directory = f\"exp5_results/{formatted_date_time}\"\n",
    "\n",
    "# Create the directory if it doesn't exist\n",
    "if not os.path.exists(directory):\n",
    "    os.makedirs(directory)\n",
    "\n",
    "# Define the file path\n",
    "file_path = os.path.join(directory, \"data.pickle\")\n",
    "\n",
    "# Data to be saved\n",
    "data = {\n",
    "    \"q\": joint_angles_list,\n",
    "    \"dq\": control_list,\n",
    "    \"timestamp\": timestamps_list,\n",
    "    \"time_per_loop\": time_per_loop_list\n",
    "}\n",
    "\n",
    "# Save the data using pickle\n",
    "with open(file_path, \"wb\") as f:\n",
    "    pickle.dump(data, f)"
   ]
  },
  {
   "cell_type": "markdown",
   "metadata": {},
   "source": [
    "# 5. Visualization"
   ]
  },
  {
   "cell_type": "code",
   "execution_count": 10,
   "metadata": {},
   "outputs": [],
   "source": [
    "import matplotlib.pyplot as plt"
   ]
  },
  {
   "cell_type": "code",
   "execution_count": 11,
   "metadata": {},
   "outputs": [
    {
     "data": {
      "image/png": "[encoded data removed]",
      "text/plain": [
       "<Figure size 640x480 with 1 Axes>"
      ]
     },
     "metadata": {},
     "output_type": "display_data"
    }
   ],
   "source": [
    "time_per_loop_np = np.array(time_per_loop_list)\n",
    "plt.hist(time_per_loop_np, bins=100)\n",
    "plt.show()"
   ]
  }
 ],
 "metadata": {
  "kernelspec": {
   "display_name": "Python 3",
   "language": "python",
   "name": "python3"
  },
  "language_info": {
   "codemirror_mode": {
    "name": "ipython",
    "version": 3
   },
   "file_extension": ".py",
   "mimetype": "text/x-python",
   "name": "python",
   "nbconvert_exporter": "python",
   "pygments_lexer": "ipython3",
   "version": "3.11.0rc1"
  }
 },
 "nbformat": 4,
 "nbformat_minor": 2
}
