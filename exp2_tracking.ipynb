{
 "cells": [
  {
   "cell_type": "markdown",
   "metadata": {},
   "source": [
    "## 1. Set up communication with the FR3"
   ]
  },
  {
   "cell_type": "markdown",
   "metadata": {},
   "source": [
    "### 1.1 Set up communication with the arm"
   ]
  },
  {
   "cell_type": "code",
   "execution_count": 1,
   "metadata": {},
   "outputs": [
    {
     "name": "stdout",
     "output_type": "stream",
     "text": [
      "Interface Running...\n"
     ]
    }
   ],
   "source": [
    "%load_ext autoreload\n",
    "%autoreload 2\n",
    "import sys \n",
    "from FR3Py.robot.interface import FR3Real\n",
    "robot = FR3Real(robot_id='fr3')"
   ]
  },
  {
   "cell_type": "code",
   "execution_count": 11,
   "metadata": {},
   "outputs": [
    {
     "data": {
      "text/plain": [
       "{'q': array([-0.0359, -0.5479,  0.0061, -2.0954, -0.0252,  3.3507,  0.8192]),\n",
       " 'dq': array([-0.0002, -0.0011,  0.0001,  0.0004,  0.0004,  0.0006,  0.    ]),\n",
       " 'T': array([-0.0602, -9.9514, -0.9779, 22.2785,  0.3041,  0.9338, -0.3795]),\n",
       " 'M': array([[ 0.5356, -0.0353,  0.749 ,  0.0001, -0.0704,  0.0058,  0.0042],\n",
       "        [-0.0353,  2.1864, -0.0111, -1.0078, -0.0228, -0.1674,  0.0002],\n",
       "        [ 0.749 , -0.0111,  1.3505, -0.0183, -0.1265,  0.0035,  0.0056],\n",
       "        [ 0.0001, -1.0078, -0.0183,  0.9364,  0.0308,  0.0988, -0.0003],\n",
       "        [-0.0704, -0.0228, -0.1265,  0.0308,  0.0295,  0.0033,  0.0007],\n",
       "        [ 0.0058, -0.1674,  0.0035,  0.0988,  0.0033,  0.0348,  0.0002],\n",
       "        [ 0.0042,  0.0002,  0.0056, -0.0003,  0.0007,  0.0002,  0.0019]]),\n",
       " 'G': array([ 0.    , -9.9432, -0.5996, 21.2308,  0.8663,  1.0546, -0.0118]),\n",
       " 'C': array([ 0., -0.,  0., -0., -0.,  0.,  0.])}"
      ]
     },
     "execution_count": 11,
     "metadata": {},
     "output_type": "execute_result"
    }
   ],
   "source": [
    "# Print the arm state\n",
    "robot.getJointStates()"
   ]
  },
  {
   "cell_type": "markdown",
   "metadata": {},
   "source": [
    "# 2. Go to initial joint angle"
   ]
  },
  {
   "cell_type": "code",
   "execution_count": 3,
   "metadata": {},
   "outputs": [],
   "source": [
    "import numpy as np\n",
    "import time"
   ]
  },
  {
   "cell_type": "code",
   "execution_count": 4,
   "metadata": {},
   "outputs": [],
   "source": [
    "## Some global parameters\n",
    "joint_lb = np.array([-2.3093, -1.5133, -2.4937, -2.7478, -2.48, 0.8521, -2.6895])\n",
    "joint_ub = np.array([2.3093, 1.5133, 2.4937, -0.4461, 2.48, 4.2094, 2.6895])\n",
    "joint_vel_lb = -np.array([2.175, 2.175, 2.175, 2.175, 2.61, 2.61, 2.61])\n",
    "joint_vel_ub = np.array([2.175, 2.175, 2.175, 2.175, 2.61, 2.61, 2.61])"
   ]
  },
  {
   "cell_type": "code",
   "execution_count": null,
   "metadata": {},
   "outputs": [],
   "source": [
    "T = 4\n",
    "q_init = np.array([0.0, -0.55, 0.0, -2.10, 0.0, 3.35, 0.82])\n",
    "\n",
    "Kp_joint = np.diag([1, 1, 1, 1, 4, 2, 1])*5\n",
    "t_start = time.time()\n",
    "while time.time() - t_start < T:\n",
    "    robot_info = robot.getJointStates()\n",
    "    q = robot_info['q'] # shape (7,)\n",
    "    \n",
    "    W = np.diag(1.0/(joint_ub-joint_lb))\n",
    "    eq = W @ (q - q_init)\n",
    "    dq = - Kp_joint @ eq\n",
    "    dq = np.clip(dq, joint_vel_lb, joint_vel_ub)\n",
    "    robot.setCommands(dq)\n",
    "\n",
    "robot.setCommands(np.zeros_like(dq))"
   ]
  },
  {
   "cell_type": "markdown",
   "metadata": {},
   "source": [
    "# 3. uaibot"
   ]
  },
  {
   "cell_type": "code",
   "execution_count": 6,
   "metadata": {},
   "outputs": [],
   "source": [
    "import uaibot as ub\n",
    "\n",
    "##############################################################################\n",
    "#Create list of obstacles\n",
    "table_top = ub.Box(ub.Utils.trn([0.4,0,0.22]),width=0.32,depth=0.48,height=0.44, color='magenta')\n",
    "obstacles = [table_top]\n",
    "\n",
    "##############################################################################\n",
    "#Create the robot\n",
    "uai_robot = ub.Robot.create_franka_emika_3()\n",
    "no_joint = np.shape(uai_robot.q)[0]"
   ]
  },
  {
   "cell_type": "code",
   "execution_count": 20,
   "metadata": {},
   "outputs": [],
   "source": [
    "#CBF eta\n",
    "eta = 1.5\n",
    "#Convergence gain\n",
    "K = 1.0\n",
    "#Smoothing parameter eps for obstacle avoidance\n",
    "eps_to_obs = 0.003\n",
    "#Smoothing parameter h for obstacle avoidance\n",
    "h_to_obs = 0.003\n",
    "#Smoothing parameter eps for auto collision avoidance\n",
    "eps_auto = 0.02\n",
    "#Smoothing parameter h for auto collision avoidance\n",
    "h_auto = 0.05\n",
    "#Safety margin obstacle avoidance\n",
    "d_safe_obs = 0.016\n",
    "#Safety margin auto collision avoidance\n",
    "d_safe_auto = 0.002\n",
    "#Safety margin joint\n",
    "d_safe_jl = (np.pi/180)*1\n",
    "#Regularization term for the controller\n",
    "eps_reg = 0.01\n",
    "#Encourage to center\n",
    "eps_centering = 0.01"
   ]
  },
  {
   "cell_type": "code",
   "execution_count": 18,
   "metadata": {},
   "outputs": [],
   "source": [
    "# Define the time-varying trajectory\n",
    "xc = 0.45\n",
    "yc = 0\n",
    "zc = 0.70\n",
    "radius = 0.20\n",
    "period = 7.0 #in seconcs\n",
    "phase = np.pi/2\n",
    "\n",
    "T_des = lambda t: ub.Utils.trn([xc, yc+radius*np.cos(2*np.pi*t/period+phase), zc+radius*np.sin(2*np.pi*t/period+phase)])*ub.Utils.roty(np.pi/2)*ub.Utils.rotz(np.pi)"
   ]
  },
  {
   "cell_type": "code",
   "execution_count": 22,
   "metadata": {},
   "outputs": [],
   "source": [
    "timestamps_list = [] \n",
    "joint_angles_list = []\n",
    "time_per_loop_list = []\n",
    "\n",
    "T = 2 * period\n",
    "q_mid = ((joint_ub+joint_lb)/2).reshape(-1,1)\n",
    "W = np.diag(1.0/(joint_ub-joint_lb))\n",
    "dt = 0.01\n",
    "\n",
    "start_time = time.time()\n",
    "while (time.time() - start_time < T):\n",
    "    loop_start = time.time()\n",
    "    t = loop_start - start_time\n",
    "    robot_info = robot.getJointStates()\n",
    "    #Get current configuration, in the real robot you have to measure this from somewhere\n",
    "    q = robot_info[\"q\"].reshape(-1,1)\n",
    "\n",
    "    #Compute task function and Jacobian at current configuration\n",
    "    #Compute the task function and its Jacobian\n",
    "    r , jac_r = uai_robot.task_function(q=q, htm_des=T_des(t))\n",
    "\n",
    "    #Compute the task feedforward numerically: partial r(q,t)/partial t\n",
    "    r_next , _ = uai_robot.task_function(q=q, htm_des=T_des(t+dt))\n",
    "    r_prev , _ = uai_robot.task_function(q=q, htm_des=T_des(t-dt))\n",
    "    ff = (r_next-r_prev)/(2*dt)\n",
    "    \n",
    "    #GATHER DATA FOR THE OBSTACLE AVOIDANCE CONSTRAINT\n",
    "    #Loop all the obstacles and compute distance info\n",
    "    #Collect the matrices A_obs and b_obs:\n",
    "    # A_obs: each line has the smooth metric gradient (in configuration space), as a row matrix,\n",
    "    #        from an object of the robot and an object of the obstacle\n",
    "    # b_obs: each line has the smooth metric\n",
    "    A_obs = np.matrix(np.zeros((0,no_joint)))\n",
    "    b_obs = np.matrix(np.zeros((0,1)))\n",
    "    \n",
    "    for obs in obstacles:\n",
    "        dist_info = uai_robot.compute_dist(obj = obs, q=q, h=h_to_obs, eps = eps_to_obs)\n",
    "\n",
    "        A_obs = np.vstack((A_obs, dist_info.jac_dist_mat))\n",
    "        b_obs = np.vstack((b_obs, dist_info.dist_vect))\n",
    "        \n",
    "    #GATHER DATA FOR THE JOINT LIMIT AVOIDANCE COINSTRANT\n",
    "    q_min = uai_robot.joint_limit[:,0]\n",
    "    q_max = uai_robot.joint_limit[:,1]\n",
    "    A_joint = np.matrix(np.vstack(  (np.identity(7), -np.identity(7))  ))\n",
    "    b_joint = np.matrix(np.vstack(  (q-q_min , q_max - q)  ))\n",
    "    \n",
    "    #GATHER DATA FOR THE AUTO COLLISION AVOIDANCE CONSTRAINT\n",
    "    dist_info =uai_robot.compute_dist_auto(q = q, eps=eps_auto, h=h_auto)\n",
    "    #We can safely ignore the last four collisions, that is why we have the [0:-4,:]   \n",
    "    A_auto = dist_info.jac_dist_mat[0:-4,:]\n",
    "    b_auto = dist_info.dist_vect[0:-4,:]    \n",
    "    \n",
    "    #CREATE THE QUADRATIC PROGRAM    \n",
    "    H_mat = jac_r.transpose()*jac_r + eps_centering * W @ W\n",
    "    f_mat = jac_r.transpose() * (K*r+ff) - eps_centering * W @ q_mid\n",
    "    \n",
    "    A_mat = np.vstack((A_obs,A_joint,A_auto))\n",
    "    b_mat = np.vstack( (b_obs-d_safe_obs, b_joint-d_safe_jl, b_auto-d_safe_auto) )\n",
    "    \n",
    "    b_mat = -eta*b_mat\n",
    "        \n",
    "    #Compute qdot\n",
    "    dq = ub.Utils.solve_qp(H_mat, f_mat, A_mat, b_mat)\n",
    "    dq = np.array(dq)\n",
    "    dq = dq.squeeze(-1)\n",
    "    dq = np.clip(dq, joint_vel_lb, joint_vel_ub)\n",
    "    robot.setCommands(dq)\n",
    "    loop_end = time.time()\n",
    "\n",
    "    timestamps_list.append(loop_start)\n",
    "    joint_angles_list.append(robot_info[\"q\"].copy())\n",
    "    time_per_loop_list.append(loop_end-loop_start)\n",
    "\n",
    "robot.setCommands(np.zeros_like(dq))\n",
    "    "
   ]
  },
  {
   "cell_type": "markdown",
   "metadata": {},
   "source": [
    "# 4. Save the data"
   ]
  },
  {
   "cell_type": "code",
   "execution_count": 23,
   "metadata": {},
   "outputs": [],
   "source": [
    "import pickle\n",
    "from datetime import datetime\n",
    "import os\n",
    "\n",
    "now = datetime.now()\n",
    "formatted_date_time = now.strftime(\"%Y-%m-%d-%H-%M-%S\")\n",
    "\n",
    "directory = f\"exp2_results/{formatted_date_time}\"\n",
    "\n",
    "# Create the directory if it doesn't exist\n",
    "if not os.path.exists(directory):\n",
    "    os.makedirs(directory)\n",
    "\n",
    "# Define the file path\n",
    "file_path = os.path.join(directory, \"data.pickle\")\n",
    "\n",
    "# Data to be saved\n",
    "data = {\n",
    "    \"q\": joint_angles_list,\n",
    "    \"timestamp\": timestamps_list,\n",
    "    \"time_per_loop\": time_per_loop_list\n",
    "}\n",
    "\n",
    "# Save the data using pickle\n",
    "with open(file_path, \"wb\") as f:\n",
    "    pickle.dump(data, f)"
   ]
  },
  {
   "cell_type": "markdown",
   "metadata": {},
   "source": [
    "# 5. Visualization"
   ]
  },
  {
   "cell_type": "code",
   "execution_count": 24,
   "metadata": {},
   "outputs": [],
   "source": [
    "import matplotlib.pyplot as plt"
   ]
  },
  {
   "cell_type": "code",
   "execution_count": 25,
   "metadata": {},
   "outputs": [
    {
     "data": {
      "image/png": "[encoded data removed]",
      "text/plain": [
       "<Figure size 640x480 with 1 Axes>"
      ]
     },
     "metadata": {},
     "output_type": "display_data"
    }
   ],
   "source": [
    "time_per_loop_np = np.array(time_per_loop_list)\n",
    "plt.hist(time_per_loop_np, bins=100)\n",
    "plt.show()"
   ]
  }
 ],
 "metadata": {
  "kernelspec": {
   "display_name": "usr",
   "language": "python",
   "name": "python3"
  },
  "language_info": {
   "codemirror_mode": {
    "name": "ipython",
    "version": 3
   },
   "file_extension": ".py",
   "mimetype": "text/x-python",
   "name": "python",
   "nbconvert_exporter": "python",
   "pygments_lexer": "ipython3",
   "version": "3.11.0rc1"
  }
 },
 "nbformat": 4,
 "nbformat_minor": 2
}
