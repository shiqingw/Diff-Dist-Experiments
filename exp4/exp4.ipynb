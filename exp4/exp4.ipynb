{
 "cells": [
  {
   "cell_type": "markdown",
   "metadata": {},
   "source": [
    "## 1. Set up communication with the FR3"
   ]
  },
  {
   "cell_type": "markdown",
   "metadata": {},
   "source": [
    "### 1.1 Set up communication with the arm"
   ]
  },
  {
   "cell_type": "code",
   "execution_count": 1,
   "metadata": {},
   "outputs": [
    {
     "name": "stdout",
     "output_type": "stream",
     "text": [
      "Interface Running...\n"
     ]
    }
   ],
   "source": [
    "%load_ext autoreload\n",
    "%autoreload 2\n",
    "import sys \n",
    "from FR3Py.robot.interface import FR3Real\n",
    "robot = FR3Real(robot_id='fr3')"
   ]
  },
  {
   "cell_type": "code",
   "execution_count": 2,
   "metadata": {},
   "outputs": [
    {
     "data": {
      "text/plain": [
       "{'q': array([ 2.79917108e-04, -7.85434022e-01, -1.45577023e-04, -2.35672197e+00,\n",
       "        -7.23506534e-04,  1.57109855e+00,  7.84965560e-01]),\n",
       " 'dq': array([-2.06376051e-04, -1.19407002e-03, -8.87441751e-04, -7.17204378e-05,\n",
       "         7.60639023e-04,  1.14259622e-04,  1.14570698e-03]),\n",
       " 'T': array([-0.15939641, -3.84179831, -0.64864194, 23.17111588,  1.17296064,\n",
       "         2.06174445,  0.21288517]),\n",
       " 'M': array([[ 4.83522698e-01, -9.53506390e-03,  4.80705544e-01,\n",
       "         -1.24985835e-02,  5.54553445e-02, -3.84407569e-03,\n",
       "          1.56659499e-03],\n",
       "        [-9.53506390e-03,  1.53745972e+00,  5.23768961e-03,\n",
       "         -6.90617348e-01, -1.43469572e-02, -2.38363390e-02,\n",
       "         -6.81591730e-04],\n",
       "        [ 4.80705544e-01,  5.23768961e-03,  9.84870284e-01,\n",
       "         -2.77065696e-02,  6.82024323e-02, -4.61449640e-03,\n",
       "          3.48853228e-03],\n",
       "        [-1.24985835e-02, -6.90617348e-01, -2.77065696e-02,\n",
       "          9.51049707e-01,  2.77299125e-02,  1.06075904e-01,\n",
       "          3.14828751e-04],\n",
       "        [ 5.54553445e-02, -1.43469572e-02,  6.82024323e-02,\n",
       "          2.77299125e-02,  1.99355881e-02,  2.74424477e-03,\n",
       "          7.43035789e-04],\n",
       "        [-3.84407569e-03, -2.38363390e-02, -4.61449640e-03,\n",
       "          1.06075904e-01,  2.74424477e-03,  3.48698767e-02,\n",
       "          2.10461677e-04],\n",
       "        [ 1.56659499e-03, -6.81591730e-04,  3.48853228e-03,\n",
       "          3.14828751e-04,  7.43035789e-04,  2.10461677e-04,\n",
       "          1.89682822e-03]]),\n",
       " 'G': array([-2.16840434e-19, -3.77637328e+00, -6.34852874e-01,  2.24764061e+01,\n",
       "         7.94012643e-01,  2.15970673e+00, -6.62748013e-05]),\n",
       " 'C': array([ 9.88942004e-08, -5.68890685e-07,  4.23794257e-07, -1.21588796e-06,\n",
       "        -2.10673529e-08, -2.39344687e-07, -3.15325056e-10])}"
      ]
     },
     "execution_count": 2,
     "metadata": {},
     "output_type": "execute_result"
    }
   ],
   "source": [
    "# Print the arm state\n",
    "robot.getJointStates()"
   ]
  },
  {
   "cell_type": "markdown",
   "metadata": {},
   "source": [
    "# 2. Go to initial joint angle"
   ]
  },
  {
   "cell_type": "code",
   "execution_count": 3,
   "metadata": {},
   "outputs": [],
   "source": [
    "import numpy as np\n",
    "import time"
   ]
  },
  {
   "cell_type": "code",
   "execution_count": 4,
   "metadata": {},
   "outputs": [],
   "source": [
    "## Some global parameters\n",
    "joint_lb = np.array([-2.3093, -1.5133, -2.4937, -2.7478, -2.48, 0.8521, -2.6895])\n",
    "joint_ub = np.array([2.3093, 1.5133, 2.4937, -0.4461, 2.48, 4.2094, 2.6895])\n",
    "joint_vel_lb = -np.array([2.175, 2.175, 2.175, 2.175, 2.61, 2.61, 2.61])\n",
    "joint_vel_ub = np.array([2.175, 2.175, 2.175, 2.175, 2.61, 2.61, 2.61])"
   ]
  },
  {
   "cell_type": "code",
   "execution_count": 30,
   "metadata": {},
   "outputs": [],
   "source": [
    "T = 7\n",
    "q_init = np.array([ 0.8004, -0.9493, -1.0221, -2.1716, -0.309, 3.1311, 0.27])\n",
    "\n",
    "Kp_joint = np.diag([1, 1, 1, 1, 4, 2, 1])*5\n",
    "t_start = time.time()\n",
    "while time.time() - t_start < T:\n",
    "    robot_info = robot.getJointStates()\n",
    "    q = robot_info['q'] # shape (7,)\n",
    "    \n",
    "    W = np.diag(1.0/(joint_ub-joint_lb))\n",
    "    eq = W @ (q - q_init)\n",
    "    dq = - Kp_joint @ eq\n",
    "    dq = np.clip(dq, joint_vel_lb, joint_vel_ub)\n",
    "    robot.setCommands(dq)\n",
    "\n",
    "robot.setCommands(np.zeros_like(dq))"
   ]
  },
  {
   "cell_type": "markdown",
   "metadata": {},
   "source": [
    "# 3. uaibot"
   ]
  },
  {
   "cell_type": "code",
   "execution_count": 12,
   "metadata": {},
   "outputs": [],
   "source": [
    "import uaibot as ub\n",
    "from utils_paper import *\n",
    "from create_franka_emika_3_mod import *"
   ]
  },
  {
   "cell_type": "code",
   "execution_count": 13,
   "metadata": {},
   "outputs": [],
   "source": [
    "##############################################################################\n",
    "#Create list of obstacles\n",
    "obs_box = ub.Box(ub.Utils.trn([0.46,0,0.44+0.23])*ub.Utils.rotz(0*np.pi/4),width=0.16,depth=0.16,height=0.46, color='yellow')\n",
    "table_top = ub.Box(ub.Utils.trn([0.4,0,0.22]),width=0.32,depth=0.48,height=0.44, color='magenta')\n",
    "\n",
    "obstacles = [obs_box, table_top]\n",
    "\n",
    "##############################################################################\n",
    "#Create the robot\n",
    "uai_robot = create_franka_emika_3_mod()\n",
    "no_joint = np.shape(uai_robot.q)[0]\n",
    "\n",
    "##############################################################################\n",
    "#Create the initial pose and target pose\n",
    "htm_init = ub.Utils.trn([0.45, -0.3, 0.7])*ub.Utils.roty(-np.pi/2)*ub.Utils.rotx(np.pi)\n",
    "htm_des = ub.Utils.trn([0.40, 0.16, 0.7])*ub.Utils.roty(np.pi/2)*ub.Utils.rotx(np.pi/6)*ub.Utils.rotz(np.pi/2)"
   ]
  },
  {
   "cell_type": "code",
   "execution_count": 31,
   "metadata": {},
   "outputs": [],
   "source": [
    "#Main control loop\n",
    "#Parameters\n",
    "#CBF eta\n",
    "eta = 0.8\n",
    "#Convergence gain\n",
    "kconv = 0.5\n",
    "#Smoothing parameter eps for obstacle avoidance\n",
    "eps_to_obs = 0.05\n",
    "#Smoothing parameter h for obstacle avoidance\n",
    "h_to_obs = 0.1\n",
    "#Smoothing parameter eps for auto collision avoidance\n",
    "eps_auto = 0.02\n",
    "#Smoothing parameter h for auto collision avoidance\n",
    "h_auto = 0.05\n",
    "#Safety margin obstacle avoidance\n",
    "d_safe_obs = 0.005\n",
    "#Safety margin auto collision avoidance\n",
    "d_safe_auto = 0.002\n",
    "#Safety margin joint\n",
    "d_safe_jl = (np.pi/180)*1\n",
    "#Error tolerance position (in mm)\n",
    "tolp=1.0 \n",
    "#Error tolerance angle (in def)\n",
    "tolo=1.0 \n",
    "#Regularization term for the controller\n",
    "eps_reg = 0.01"
   ]
  },
  {
   "cell_type": "code",
   "execution_count": 32,
   "metadata": {},
   "outputs": [],
   "source": [
    "#UNCOMMENT THE NEXT LINES TO RUN IN THE EUCLIDEAN DISTANCE MODE####\n",
    "eps_to_obs = 0\n",
    "h_to_obs = 0\n",
    "d_safe_obs = 0.05\n",
    "\n",
    "eps_auto = 0\n",
    "h_auto = 0\n",
    "d_safe_auto = 0.02"
   ]
  },
  {
   "cell_type": "code",
   "execution_count": 33,
   "metadata": {},
   "outputs": [],
   "source": [
    "timestamps_list = [] \n",
    "joint_angles_list = []\n",
    "control_list = []\n",
    "time_per_loop_list = []\n",
    "\n",
    "T = 13\n",
    "start_time = time.time()\n",
    "while (time.time() - start_time < T):\n",
    "    loop_start = time.time()\n",
    "    robot_info = robot.getJointStates()\n",
    "    #Get current configuration, in the real robot you have to measure this from somewhere\n",
    "    q = robot_info[\"q\"].reshape(-1,1)\n",
    "\n",
    "    #Compute task function and Jacobian at current configuration\n",
    "    r, jac_r = uai_robot.task_function(q=q, htm_des = htm_des)\n",
    "    \n",
    "    #GATHER DATA FOR THE OBSTACLE AVOIDANCE CONSTRAINT\n",
    "    #Loop all the obstacles and compute distance info\n",
    "    #Collect the matrices A_obs and b_obs:\n",
    "    # A_obs: each line has the smooth metric gradient (in configuration space), as a row matrix,\n",
    "    #        from an object of the robot and an object of the obstacle\n",
    "    # b_obs: each line has the smooth metric\n",
    "    A_obs = np.matrix(np.zeros((0,no_joint)))\n",
    "    b_obs = np.matrix(np.zeros((0,1)))\n",
    "    \n",
    "    for obs in obstacles:\n",
    "        dist_info = uai_robot.compute_dist(obj = obs, q=q, h=h_to_obs, eps = eps_to_obs)\n",
    "\n",
    "        A_obs = np.vstack((A_obs, dist_info.jac_dist_mat))\n",
    "        b_obs = np.vstack((b_obs, dist_info.dist_vect))\n",
    "        \n",
    "    #GATHER DATA FOR THE JOINT LIMIT AVOIDANCE COINSTRANT\n",
    "    q_min = uai_robot.joint_limit[:,0]\n",
    "    q_max = uai_robot.joint_limit[:,1]\n",
    "    A_joint = np.matrix(np.vstack(  (np.identity(7), -np.identity(7))  ))\n",
    "    b_joint = np.matrix(np.vstack(  (q-q_min , q_max - q)  ))\n",
    "    \n",
    "    #GATHER DATA FOR THE AUTO COLLISION AVOIDANCE CONSTRAINT\n",
    "    dist_info =uai_robot.compute_dist_auto(q = q, eps=eps_auto, h=h_auto)\n",
    "    #We can safely ignore the last four collisions, that is why we have the [0:-4,:]   \n",
    "    A_auto = dist_info.jac_dist_mat[0:-4,:]\n",
    "    b_auto = dist_info.dist_vect[0:-4,:]    \n",
    "    \n",
    "    #CREATE THE QUADRATIC PROGRAM    \n",
    "    H_mat = jac_r.transpose()*jac_r + eps_reg*np.identity(no_joint)\n",
    "    f_mat = kconv * jac_r.transpose()*funF(r)\n",
    "    \n",
    "    A_mat = np.vstack((A_obs,A_joint,A_auto))\n",
    "    b_mat = np.vstack( (b_obs-d_safe_obs, b_joint-d_safe_jl, b_auto-d_safe_auto) )\n",
    "    \n",
    "    b_mat = -eta*b_mat\n",
    "        \n",
    "    #Compute qdot\n",
    "    dq = ub.Utils.solve_qp(H_mat, f_mat, A_mat, b_mat)\n",
    "    dq = np.array(dq)\n",
    "    dq = dq.squeeze(-1)\n",
    "    dq = np.clip(dq, joint_vel_lb, joint_vel_ub)\n",
    "    robot.setCommands(dq)\n",
    "    loop_end = time.time()\n",
    "\n",
    "    timestamps_list.append(loop_start)\n",
    "    joint_angles_list.append(robot_info[\"q\"].copy())\n",
    "    control_list.append(dq.copy())\n",
    "    time_per_loop_list.append(loop_end-loop_start)\n",
    "\n",
    "robot.setCommands(np.zeros_like(dq))\n",
    "    "
   ]
  },
  {
   "cell_type": "markdown",
   "metadata": {},
   "source": [
    "# 4. Save the data"
   ]
  },
  {
   "cell_type": "code",
   "execution_count": 34,
   "metadata": {},
   "outputs": [],
   "source": [
    "import pickle\n",
    "from datetime import datetime\n",
    "import os\n",
    "\n",
    "now = datetime.now()\n",
    "formatted_date_time = now.strftime(\"%Y-%m-%d-%H-%M-%S\")\n",
    "\n",
    "directory = f\"/workspaces/Vinicius-Experiments/exp4_results/{formatted_date_time}\"\n",
    "\n",
    "# Create the directory if it doesn't exist\n",
    "if not os.path.exists(directory):\n",
    "    os.makedirs(directory)\n",
    "\n",
    "# Define the file path\n",
    "file_path = os.path.join(directory, \"data.pickle\")\n",
    "\n",
    "# Data to be saved\n",
    "data = {\n",
    "    \"q\": joint_angles_list,\n",
    "    \"dq\": control_list,\n",
    "    \"timestamp\": timestamps_list,\n",
    "    \"time_per_loop\": time_per_loop_list\n",
    "}\n",
    "\n",
    "# Save the data using pickle\n",
    "with open(file_path, \"wb\") as f:\n",
    "    pickle.dump(data, f)"
   ]
  },
  {
   "cell_type": "markdown",
   "metadata": {},
   "source": [
    "# 5. Visualization"
   ]
  },
  {
   "cell_type": "code",
   "execution_count": 35,
   "metadata": {},
   "outputs": [],
   "source": [
    "import matplotlib.pyplot as plt"
   ]
  },
  {
   "cell_type": "code",
   "execution_count": 36,
   "metadata": {},
   "outputs": [
    {
     "data": {
      "image/png": "[encoded data removed]",
      "text/plain": [
       "<Figure size 640x480 with 1 Axes>"
      ]
     },
     "metadata": {},
     "output_type": "display_data"
    }
   ],
   "source": [
    "time_per_loop_np = np.array(time_per_loop_list)\n",
    "plt.hist(time_per_loop_np, bins=100)\n",
    "plt.show()"
   ]
  },
  {
   "cell_type": "code",
   "execution_count": 37,
   "metadata": {},
   "outputs": [
    {
     "data": {
      "text/plain": [
       "[<matplotlib.lines.Line2D at 0x78ae19537810>]"
      ]
     },
     "execution_count": 37,
     "metadata": {},
     "output_type": "execute_result"
    },
    {
     "data": {
      "image/png": "[encoded data removed]",
      "text/plain": [
       "<Figure size 640x480 with 1 Axes>"
      ]
     },
     "metadata": {},
     "output_type": "display_data"
    }
   ],
   "source": [
    "timestamps_np = np.array(timestamps_list)\n",
    "timestamps_np = timestamps_np - timestamps_np[0]\n",
    "control_np = np.array(control_list)\n",
    "plt.plot(timestamps_np, control_np[:,0])"
   ]
  }
 ],
 "metadata": {
  "kernelspec": {
   "display_name": "usr",
   "language": "python",
   "name": "python3"
  },
  "language_info": {
   "codemirror_mode": {
    "name": "ipython",
    "version": 3
   },
   "file_extension": ".py",
   "mimetype": "text/x-python",
   "name": "python",
   "nbconvert_exporter": "python",
   "pygments_lexer": "ipython3",
   "version": "3.11.0rc1"
  }
 },
 "nbformat": 4,
 "nbformat_minor": 2
}
